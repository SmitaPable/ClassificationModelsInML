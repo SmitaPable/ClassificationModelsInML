{
 "cells": [
  {
   "cell_type": "markdown",
   "id": "9f54ee81-2369-4241-9a23-f3baddfbbdbe",
   "metadata": {},
   "source": [
    "**__KNeighborsClassifier__** <br>\n",
    "Looks for similarities\n",
    "<br>eg. Reccomender system: If you and other User liked 10 similar movies KNN finds users similar to you and reccomend you the movies they liked and you havent watched"
   ]
  },
  {
   "cell_type": "code",
   "execution_count": 2,
   "id": "51929d7d-fc17-4c0c-802a-fe57e1804bc7",
   "metadata": {},
   "outputs": [],
   "source": [
    "import pandas as pd\n"
   ]
  },
  {
   "cell_type": "code",
   "execution_count": 3,
   "id": "204576b3-cb87-40a5-8550-c888a5f69a47",
   "metadata": {},
   "outputs": [],
   "source": [
    "data= pd.read_csv('user_movie_ratings_200.csv')"
   ]
  },
  {
   "cell_type": "code",
   "execution_count": 4,
   "id": "f4c59c20-f88e-472d-bb36-3bcb4ebbf7d9",
   "metadata": {},
   "outputs": [
    {
     "name": "stdout",
     "output_type": "stream",
     "text": [
      "<class 'pandas.core.frame.DataFrame'>\n",
      "RangeIndex: 200 entries, 0 to 199\n",
      "Data columns (total 6 columns):\n",
      " #   Column          Non-Null Count  Dtype \n",
      "---  ------          --------------  ----- \n",
      " 0   user_id         200 non-null    int64 \n",
      " 1   movie_1         200 non-null    int64 \n",
      " 2   movie_2         200 non-null    int64 \n",
      " 3   movie_3         200 non-null    int64 \n",
      " 4   movie_4         200 non-null    int64 \n",
      " 5   favorite_genre  200 non-null    object\n",
      "dtypes: int64(5), object(1)\n",
      "memory usage: 9.5+ KB\n",
      "None\n"
     ]
    }
   ],
   "source": [
    "print(data.info())"
   ]
  },
  {
   "cell_type": "code",
   "execution_count": 5,
   "id": "3d0b54bb-a106-475c-88c1-d4bc392c0cea",
   "metadata": {},
   "outputs": [
    {
     "name": "stdout",
     "output_type": "stream",
     "text": [
      "Features shape: (200, 4)\n",
      "Target shape: (200,)\n"
     ]
    }
   ],
   "source": [
    "# Select features: the movie ratings columns\n",
    "X = data[['movie_1', 'movie_2', 'movie_3', 'movie_4']]\n",
    "\n",
    "# Select target: the favorite genre column\n",
    "y = data['favorite_genre']\n",
    "\n",
    "# Check shapes of X and y\n",
    "print(\"Features shape:\", X.shape)\n",
    "print(\"Target shape:\", y.shape)\n"
   ]
  },
  {
   "cell_type": "code",
   "execution_count": 6,
   "id": "c091b1b0-43c6-4501-9cdd-4198ee44ca32",
   "metadata": {},
   "outputs": [
    {
     "name": "stdout",
     "output_type": "stream",
     "text": [
      "Training features shape: (140, 4)\n",
      "Testing features shape: (60, 4)\n",
      "Training target shape: (140,)\n",
      "Testing target shape: (60,)\n"
     ]
    }
   ],
   "source": [
    "from sklearn.model_selection import train_test_split\n",
    "\n",
    "# Split data into 70% training and 30% testing sets\n",
    "X_train, X_test, y_train, y_test = train_test_split(\n",
    "    X, y, test_size=0.3, random_state=42\n",
    ")\n",
    "\n",
    "# Check the sizes of splits\n",
    "print(f\"Training features shape: {X_train.shape}\")\n",
    "print(f\"Testing features shape: {X_test.shape}\")\n",
    "print(f\"Training target shape: {y_train.shape}\")\n",
    "print(f\"Testing target shape: {y_test.shape}\")\n"
   ]
  },
  {
   "cell_type": "code",
   "execution_count": 7,
   "id": "bfcf081b-f782-4edb-8348-32d497221976",
   "metadata": {},
   "outputs": [
    {
     "name": "stdout",
     "output_type": "stream",
     "text": [
      "First 5 rows of scaled training features:\n",
      "[[ 1.42400078 -0.27295036  0.93411492  0.82835003]\n",
      " [-1.3997968  -1.50562941 -1.51029796 -0.3988352 ]\n",
      " [-0.27027777  0.34338916  1.54521814 -0.3988352 ]\n",
      " [-1.3997968   0.34338916  1.54521814 -1.01242782]\n",
      " [-0.83503729 -0.88928988  0.3230117   0.82835003]]\n"
     ]
    }
   ],
   "source": [
    "#This is necessary to scale all the features, eg if twi movies has different rating sclaes like (1-10 and 0-100), \n",
    "#movie1 has 5 rating and movie2 has 70 we need to scale these ratings to avoid large rating(0-100) overshawing small(0-5) \n",
    "from sklearn.preprocessing import StandardScaler\n",
    "\n",
    "# Initialize the scaler\n",
    "scaler = StandardScaler()\n",
    "\n",
    "# Fit scaler on training features and transform them\n",
    "X_train_scaled = scaler.fit_transform(X_train)\n",
    "\n",
    "# Use the same scaler to transform test features\n",
    "X_test_scaled = scaler.transform(X_test)\n",
    "\n",
    "# Print a sample of scaled training data\n",
    "print(\"First 5 rows of scaled training features:\")\n",
    "print(X_train_scaled[:5])\n"
   ]
  },
  {
   "cell_type": "code",
   "execution_count": 8,
   "id": "b18d8325-6086-4c78-becf-7e052f55479c",
   "metadata": {},
   "outputs": [
    {
     "name": "stdout",
     "output_type": "stream",
     "text": [
      "KNN model trained successfully!\n"
     ]
    }
   ],
   "source": [
    "from sklearn.neighbors import KNeighborsClassifier\n",
    "\n",
    "# Create KNN model with k=3 neighbors\n",
    "knn = KNeighborsClassifier(n_neighbors=3)\n",
    "\n",
    "# Train the model on the scaled training data and labels\n",
    "knn.fit(X_train_scaled, y_train)\n",
    "\n",
    "print(\"KNN model trained successfully!\")\n"
   ]
  },
  {
   "cell_type": "code",
   "execution_count": 9,
   "id": "186ca086-3071-4320-bfd2-626610600122",
   "metadata": {},
   "outputs": [
    {
     "name": "stdout",
     "output_type": "stream",
     "text": [
      "Predicted genres: ['Drama' 'Comedy' 'Comedy' 'Action' 'Action' 'Drama' 'Comedy' 'Comedy'\n",
      " 'Comedy' 'Comedy']\n",
      "True genres:      ['Drama' 'Drama' 'Comedy' 'Action' 'Action' 'Comedy' 'Comedy' 'Comedy'\n",
      " 'Comedy' 'Comedy']\n"
     ]
    }
   ],
   "source": [
    "# Use the trained KNN model to predict genres for test features\n",
    "y_pred = knn.predict(X_test_scaled)\n",
    "\n",
    "# Show the first 10 predictions alongside the true labels\n",
    "print(\"Predicted genres:\", y_pred[:10])\n",
    "print(\"True genres:     \", y_test.values[:10])\n"
   ]
  },
  {
   "cell_type": "code",
   "execution_count": 12,
   "id": "e3bc32e7-2497-4f67-a1fb-e0447b5af220",
   "metadata": {},
   "outputs": [
    {
     "name": "stdout",
     "output_type": "stream",
     "text": [
      "Predicted favorite genre for new user: Comedy\n"
     ]
    },
    {
     "name": "stderr",
     "output_type": "stream",
     "text": [
      "C:\\Users\\DELL\\anaconda3\\Lib\\site-packages\\sklearn\\base.py:439: UserWarning: X does not have valid feature names, but StandardScaler was fitted with feature names\n",
      "  warnings.warn(\n"
     ]
    }
   ],
   "source": [
    "# Example: new user movie ratings (replace with your own values)\n",
    "new_user_ratings = [[4, 0, 3, 5]]  # ratings for movie_1, movie_2, movie_3, movie_4\n",
    "\n",
    "# Scale the new user ratings with the same scaler used earlier\n",
    "new_user_scaled = scaler.transform(new_user_ratings)\n",
    "\n",
    "# Predict favorite genre for the new user\n",
    "predicted_genre = knn.predict(new_user_scaled)\n",
    "\n",
    "print(f\"Predicted favorite genre for new user: {predicted_genre[0]}\")\n"
   ]
  },
  {
   "cell_type": "code",
   "execution_count": null,
   "id": "d59c2e58-539c-4e74-b5cb-ed54a0ff0993",
   "metadata": {},
   "outputs": [],
   "source": []
  },
  {
   "cell_type": "code",
   "execution_count": null,
   "id": "d01a782c-50f4-4e71-97ed-7c85b50b5665",
   "metadata": {},
   "outputs": [],
   "source": []
  }
 ],
 "metadata": {
  "kernelspec": {
   "display_name": "Python 3 (ipykernel)",
   "language": "python",
   "name": "python3"
  },
  "language_info": {
   "codemirror_mode": {
    "name": "ipython",
    "version": 3
   },
   "file_extension": ".py",
   "mimetype": "text/x-python",
   "name": "python",
   "nbconvert_exporter": "python",
   "pygments_lexer": "ipython3",
   "version": "3.11.7"
  }
 },
 "nbformat": 4,
 "nbformat_minor": 5
}
